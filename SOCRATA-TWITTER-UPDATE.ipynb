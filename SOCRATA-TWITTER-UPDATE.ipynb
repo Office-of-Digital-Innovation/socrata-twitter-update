{
 "cells": [
  {
   "cell_type": "code",
   "execution_count": null,
   "metadata": {
    "collapsed": true
   },
   "outputs": [],
   "source": [
    "#under development: limit tweet @ 140 chars for long SOCRATA titles"
   ]
  },
  {
   "cell_type": "code",
   "execution_count": null,
   "metadata": {
    "collapsed": false
   },
   "outputs": [],
   "source": [
    "#import the required libraries\n",
    "import csv, requests, datetime, time\n",
    "import simplejson as json\n",
    "from twython import Twython"
   ]
  },
  {
   "cell_type": "code",
   "execution_count": null,
   "metadata": {
    "collapsed": false
   },
   "outputs": [],
   "source": [
    "targeturl ='http://chhs.data.ca.gov/' #change this to the SOCRATA portal you want to target, don't forget ending /\n",
    "descriptor='CHHS OPEN DATA PORTAL'   #change this to a recognizable descriptor for yourself"
   ]
  },
  {
   "cell_type": "code",
   "execution_count": null,
   "metadata": {
    "collapsed": true
   },
   "outputs": [],
   "source": [
    "r=requests.get(targeturl+\"api/dcat.json\") #build string according to SOCRATA's convention\n",
    "j=r.json() #parse the json into a dictionary named j, coincidentally j's KVPs are also dictionaries"
   ]
  },
  {
   "cell_type": "markdown",
   "metadata": {},
   "source": [
    "SOCRATA has a limit to how many requests can be made every hour from a public pool without an application token.\n",
    "This can especially be a problem if your portal has over 100 datasets. Every time this program is run, you are\n",
    "making (x+1) request \"pings\" against SOCRATA servers, where x is the number of datasets on the target portal\n",
    "\n",
    "If you are running into this, you will need to register an account with SOCRATA and append the following code\n",
    "behind your API calls:\n",
    "\n",
    "?$$app_token=INSERT-YOUR-APP-TOKEN-HERE"
   ]
  },
  {
   "cell_type": "code",
   "execution_count": null,
   "metadata": {
    "collapsed": false,
    "scrolled": true
   },
   "outputs": [],
   "source": [
    "#if it fetched the data successfully, continue; otherwise stop\n",
    "#this could probably be implemented more pythonically.. but it works for now\n",
    "\n",
    "if r.status_code==200:\n",
    "    print \"\\nsuccessfully fetched json data, http return code 200\"\n",
    "else:\n",
    "    sys.exit()"
   ]
  },
  {
   "cell_type": "code",
   "execution_count": null,
   "metadata": {
    "collapsed": true
   },
   "outputs": [],
   "source": [
    "today=datetime.datetime.today()\n",
    "final_list=[]\n",
    "newdx={}\n",
    "ignorelist=['k9fb-stqc','rpkf-ugbp','i7wi-ei4m','emt8-tzcf']\n",
    "#enter the unique IDs you want to ignore"
   ]
  },
  {
   "cell_type": "code",
   "execution_count": null,
   "metadata": {
    "collapsed": false,
    "scrolled": false
   },
   "outputs": [],
   "source": [
    "for i in j:\n",
    "    if len(i['identifier']) == 9:\n",
    "        created =datetime.datetime.strptime(i['created'] , '%Y-%m-%d')\n",
    "        modified=datetime.datetime.strptime(i['modified'], '%Y-%m-%d')\n",
    "\n",
    "        days_created =today-created\n",
    "        days_modified=today-modified\n",
    "        \n",
    "        if days_modified.days<=1 and i['identifier'] not in ignorelist: #ignore catalog dataset\n",
    "            #print \"created\",days_created.days,\"days ago\"\n",
    "            #print \"modified\",days_modified.days,\"days ago\"\n",
    "            #print i['title']\n",
    "            #print \"tags:\",i['keyword'],\"\\n\" #unicode, raw string\n",
    "            \n",
    "            unified=i['keyword'].replace(';',',')\n",
    "            strlist=unified.split(',')\n",
    "            \n",
    "            print i['webService'],\"\\n\",i['title'], \"\\ncreated on:\",created,\"\\nmodified on:\",modified\n",
    "            \n",
    "            if created==modified:\n",
    "                final_list.append({'id':i['identifier'],'title':i['title'],'tag':strlist,'status':'new'})\n",
    "            else:\n",
    "                final_list.append({'id':i['identifier'],'title':i['title'],'tag':strlist,'status':'mod'})\n",
    "            #final_list is a list of dictionaries: the \"stack\" of info for tweets"
   ]
  },
  {
   "cell_type": "code",
   "execution_count": null,
   "metadata": {
    "collapsed": true
   },
   "outputs": [],
   "source": [
    "#authenticate with your own twitter application tokens below\n",
    "\n",
    "twitter = Twython('YOUR_APP_KEY_HERE',\n",
    "                  'YOUR_APP_SECRET_HERE',\n",
    "                  'YOUR_OAUTH_TOKEN_HERE',\n",
    "                  'YOUR_OAUTH_TOKEN_SECRET_HERE')"
   ]
  },
  {
   "cell_type": "code",
   "execution_count": null,
   "metadata": {
    "collapsed": false,
    "scrolled": false
   },
   "outputs": [],
   "source": [
    "try:\n",
    "    for post in final_list:\n",
    "        if post['status']=='mod':\n",
    "            x=\"A dataset \\\"\"+post['title']+\"\\\" has been modified: \"+targeturl+\"browse?q=\"+post['id']\n",
    "            y=\"A dataset \\\"\"+post['title']+\"\\\" has been modified: \"\n",
    "            print len(y)+22\n",
    "            #len is 32+title+22, 140-54 available for title (86)\n",
    "            \n",
    "            twitter.update_status(status=x)\n",
    "            time.sleep(20)\n",
    "        elif post['status']=='new':\n",
    "            x=\"A new dataset \\\"\"+post['title']+\"\\\" has been published: \"+targeturl+\"resource/\"+post['id']\n",
    "            y=x=\"A new dataset \\\"\"+post['title']+\"\\\" has been published: \"\n",
    "            print len(y)+22\n",
    "            #len is 37+title+22, 140-59 available for title (81)\n",
    "            \n",
    "            twitter.update_status(status=x)\n",
    "            time.sleep(20)\n",
    "except:\n",
    "    pass"
   ]
  },
  {
   "cell_type": "code",
   "execution_count": null,
   "metadata": {
    "collapsed": false
   },
   "outputs": [],
   "source": [
    "#i follow people, run this line to follow and to support us!\n",
    "twitter.create_friendship(screen_name='chhsportalnews')\n",
    "twitter.create_friendship(screen_name='josephjlei')\n",
    "twitter.create_friendship(screen_name='kari_mah')"
   ]
  },
  {
   "cell_type": "code",
   "execution_count": null,
   "metadata": {
    "collapsed": false
   },
   "outputs": [],
   "source": [
    "#final_json=json.dumps(final_list)\n",
    "#encode into json, not currently necessary but can be used to create a http accessible json endpoint"
   ]
  },
  {
   "cell_type": "markdown",
   "metadata": {
    "collapsed": false
   },
   "source": [
    "this block was used to learn datetime lib, disregard\n",
    "\n",
    "x=datetime.date(2015,1,1)\n",
    "y=datetime.date(2015,1,2)\n",
    "print x, y\n",
    "z=y-x\n",
    "print z #iam timedelta object\n",
    "print z.days\n",
    "\n",
    "today=datetime.date.today()\n",
    "moddate=datetime.date(2015,6,4)\n",
    "days_since_mod=today-moddate\n",
    "\n",
    "print today\n",
    "print moddate\n",
    "print days_since_mod.days"
   ]
  }
 ],
 "metadata": {
  "kernelspec": {
   "display_name": "Python 2",
   "language": "python",
   "name": "python2"
  },
  "language_info": {
   "codemirror_mode": {
    "name": "ipython",
    "version": 2
   },
   "file_extension": ".py",
   "mimetype": "text/x-python",
   "name": "python",
   "nbconvert_exporter": "python",
   "pygments_lexer": "ipython2",
   "version": "2.7.9"
  }
 },
 "nbformat": 4,
 "nbformat_minor": 0
}
